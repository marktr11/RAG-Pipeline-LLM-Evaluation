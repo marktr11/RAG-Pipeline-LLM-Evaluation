{
 "cells": [
  {
   "cell_type": "markdown",
   "id": "56b7cd94-e2b0-4b97-80dc-6a8d57798fd3",
   "metadata": {},
   "source": [
    "# RAG - Exploration\n",
    "\n",
    "#### This notebook follows the official [LangChain RAG tutorial](https://python.langchain.com/docs/tutorials/rag/) and includes additional exploration, documentation, insights, and observations.  \n",
    "The goal is to gain a solid understanding of how to build a basic RAG pipeline.\n",
    "\n",
    "\n",
    "# Table of Contents\n",
    "1. [Setting up the environment](#1.Setting-up-the-environment)\n",
    "2. [Preview](#2.Preview)\n",
    "3. [Detailed Break down](#3.Detailed-break-down)\n",
    "   \n",
    "    A. [Indexing](#A.Indexing)\n",
    "   \n",
    "    B. [Retrieval and Generation](#B.Retrieval-and-Generation)\n",
    "   \n",
    "5. [Query Analysis](#4.Query-Analysis)\n",
    "\n",
    "\n",
    "\n",
    "## 1.Setting up the environment"
   ]
  },
  {
   "cell_type": "code",
   "execution_count": 1,
   "id": "6a1cc0b4-e8a3-4382-9985-d396cb57a0fd",
   "metadata": {},
   "outputs": [
    {
     "name": "stdout",
     "output_type": "stream",
     "text": [
      "Note: you may need to restart the kernel to use updated packages.\n"
     ]
    }
   ],
   "source": [
    "%pip install --quiet --upgrade langchain-text-splitters langchain-community langgraph"
   ]
  },
  {
   "cell_type": "code",
   "execution_count": 2,
   "id": "8aae99c8-8ac2-4af4-a73e-c22361b11938",
   "metadata": {},
   "outputs": [
    {
     "name": "stderr",
     "output_type": "stream",
     "text": [
      "2025-05-06 15:01:59,207 - INFO - Notebook logging configured.\n",
      "2025-05-06 15:01:59,208 - INFO - Added 'C:\\Users\\minhm\\OneDrive - Université Côte d'Azur\\SERVIER\\src' to sys.path\n",
      "2025-05-06 15:01:59,210 - INFO - Attempting to import 'config' from src...\n",
      "\n",
      "2025-05-06 15:01:59,222 - INFO - Current working directory: C:\\Users\\minhm\\OneDrive - Université Côte d'Azur\\SERVIER\\exploration\n",
      "2025-05-06 15:01:59,224 - INFO - LLM API Key loaded from environment.\n",
      "2025-05-06 15:01:59,225 - INFO - LangSmith API Key loaded.\n",
      "2025-05-06 15:01:59,227 - INFO - LangSmith project name set to: rag_pipeline_llm_evaluation\n",
      "2025-05-06 15:01:59,229 - INFO - PDF file path configured: C:\\Users\\minhm\\OneDrive - Université Côte d'Azur\\SERVIER\\data\\2411.15594v5.pdf\n",
      "2025-05-06 15:01:59,230 - INFO - Successfully imported 'config'.\n"
     ]
    }
   ],
   "source": [
    "# --- Configure logging FIRST ---\n",
    "# So you can see the log messages from config.py when it's imported\n",
    "import logging\n",
    "logging.basicConfig(level=logging.INFO, format='%(asctime)s - %(levelname)s - %(message)s')\n",
    "logging.info(\"Notebook logging configured.\") # Optional: Confirm logging setup\n",
    "\n",
    "# --- Add src directory to Python's path ---\n",
    "import sys\n",
    "import os\n",
    "\n",
    "# Get the absolute path of the directory containing the notebook\n",
    "notebook_dir = os.getcwd()\n",
    "# Go up one level to the project root\n",
    "project_root = os.path.dirname(notebook_dir)\n",
    "# Construct the path to the 'src' directory\n",
    "src_path = os.path.join(project_root, \"src\")\n",
    "\n",
    "# Check if the 'src' path is already in sys.path to avoid duplicates\n",
    "if src_path not in sys.path:\n",
    "    sys.path.append(src_path)\n",
    "    logging.info(f\"Added '{src_path}' to sys.path\")\n",
    "else:\n",
    "    logging.info(f\"'{src_path}' already in sys.path\")\n",
    "\n",
    "# --- Import config from src ---\n",
    "try:\n",
    "    logging.info(\"Attempting to import 'config' from src...\\n\")\n",
    "    import config # it will display logging from config\n",
    "    logging.info(\"Successfully imported 'config'.\")\n",
    "except ImportError as e:\n",
    "    logging.error(f\"Import error: {e}\")\n",
    "    logging.error(f\"Current sys.path: {sys.path}\")"
   ]
  },
  {
   "cell_type": "code",
   "execution_count": 3,
   "id": "7734d257-38cc-44e2-8790-b07692bbd387",
   "metadata": {},
   "outputs": [],
   "source": [
    "# dotenv_path = os.path.join(os.path.dirname(os.getcwd()), 'src\\.env')\n",
    "# print(dotenv_path)\n",
    "# load_dotenv(dotenv_path)"
   ]
  },
  {
   "cell_type": "code",
   "execution_count": 4,
   "id": "d460dba2-15a8-42d1-a976-d875722f7ce2",
   "metadata": {},
   "outputs": [],
   "source": [
    "#!pip install -U langchain langchain-openai\n",
    "\n",
    "# Set the environment variable for OpenAI API key.\n",
    "# LangChain does not automatically use config.LLM_API_KEY; \n",
    "# it requires the standard environment variable OPENAI_API_KEY to be set.\n",
    "if not os.environ.get(\"OPENAI_API_KEY\"):\n",
    "    os.environ[\"OPENAI_API_KEY\"] = config.LLM_API_KEY\n",
    "\n",
    "from langchain.chat_models import init_chat_model  # Initialize chat model\n",
    "\n",
    "# Use temperature=0 to ensure deterministic output.\n",
    "# By default, temperature > 0 introduces randomness into generation.\n",
    "#\n",
    "# you can select a different chat model as in the tutorial, \n",
    "# but I opted for gpt-3.5-turbo to keep costs low.\n",
    "llm = init_chat_model(\"gpt-3.5-turbo\", model_provider=\"openai\")"
   ]
  },
  {
   "cell_type": "code",
   "execution_count": 5,
   "id": "61a1f238-e57c-4e3b-9251-cc1ecefcb258",
   "metadata": {},
   "outputs": [],
   "source": [
    "#!pip install -qU langchain-openai \n",
    "from langchain_openai import OpenAIEmbeddings # Initialize embedding model\n",
    "\n",
    "# You can choose a different embedding model, as shown in the tutorial, \n",
    "# but I chose a smaller one due to budget constraints.\n",
    "embeddings = OpenAIEmbeddings(model=\"text-embedding-3-small\")"
   ]
  },
  {
   "cell_type": "code",
   "execution_count": 6,
   "id": "f8c09d93-bb2a-4b4b-81cd-5af6cd610dea",
   "metadata": {},
   "outputs": [],
   "source": [
    "#!pip install -qU langchain-core\n",
    "from langchain_core.vectorstores import InMemoryVectorStore\n",
    "\n",
    "# InMemoryVectorStore is a simple option suitable for exploring RAG concepts,\n",
    "# but for production use, it is recommended to use a more robust vector store.\n",
    "vector_store = InMemoryVectorStore(embeddings)"
   ]
  },
  {
   "cell_type": "markdown",
   "id": "ffea7b35-db26-4665-9589-708418c36544",
   "metadata": {},
   "source": [
    "## 2.Preview"
   ]
  },
  {
   "cell_type": "code",
   "execution_count": 7,
   "id": "4932c490-8041-4086-a793-e5eaab711497",
   "metadata": {},
   "outputs": [
    {
     "name": "stderr",
     "output_type": "stream",
     "text": [
      "2025-05-06 15:02:00,291 - WARNING - USER_AGENT environment variable not set, consider setting it to identify your requests.\n",
      "2025-05-06 15:02:05,616 - INFO - HTTP Request: POST https://api.openai.com/v1/embeddings \"HTTP/1.1 200 OK\"\n"
     ]
    }
   ],
   "source": [
    "import bs4\n",
    "from langchain import hub\n",
    "from langchain_community.document_loaders import WebBaseLoader\n",
    "from langchain_core.documents import Document\n",
    "from langchain_text_splitters import RecursiveCharacterTextSplitter\n",
    "from langgraph.graph import START, StateGraph\n",
    "from typing_extensions import List, TypedDict\n",
    "\n",
    "if not os.environ.get(\"USER_AGENT\"):\n",
    "    os.environ[\"USER_AGENT\"] = \"my-python-client/5.0\" \n",
    "\n",
    "# Load and chunk contents of the blog\n",
    "loader = WebBaseLoader(\n",
    "    web_paths=(\"https://lilianweng.github.io/posts/2023-06-23-agent/\",),\n",
    "    bs_kwargs=dict(\n",
    "        parse_only=bs4.SoupStrainer(\n",
    "            class_=(\"post-content\", \"post-title\", \"post-header\")\n",
    "        )\n",
    "    ),\n",
    ")\n",
    "docs = loader.load()\n",
    "\n",
    "text_splitter = RecursiveCharacterTextSplitter(chunk_size=1000, chunk_overlap=200)\n",
    "all_splits = text_splitter.split_documents(docs)\n",
    "\n",
    "# Index chunks\n",
    "_ = vector_store.add_documents(documents=all_splits)\n",
    "\n",
    "# Define prompt for question-answering\n",
    "prompt = hub.pull(\"rlm/rag-prompt\")\n",
    "\n",
    "\n",
    "# Define state for application\n",
    "class State(TypedDict):\n",
    "    question: str\n",
    "    context: List[Document]\n",
    "    answer: str\n",
    "\n",
    "\n",
    "# Define application steps\n",
    "def retrieve(state: State):\n",
    "    retrieved_docs = vector_store.similarity_search(state[\"question\"])\n",
    "    return {\"context\": retrieved_docs}\n",
    "\n",
    "\n",
    "def generate(state: State):\n",
    "    docs_content = \"\\n\\n\".join(doc.page_content for doc in state[\"context\"])\n",
    "    messages = prompt.invoke({\"question\": state[\"question\"], \"context\": docs_content})\n",
    "    response = llm.invoke(messages)\n",
    "    return {\"answer\": response.content}\n",
    "\n",
    "\n",
    "# Compile application and test\n",
    "graph_builder = StateGraph(State).add_sequence([retrieve, generate])\n",
    "graph_builder.add_edge(START, \"retrieve\")\n",
    "graph = graph_builder.compile()"
   ]
  },
  {
   "cell_type": "code",
   "execution_count": 8,
   "id": "7b0cc7ff-ebcc-40d7-9853-c58f693cd8dd",
   "metadata": {},
   "outputs": [
    {
     "name": "stderr",
     "output_type": "stream",
     "text": [
      "2025-05-06 15:02:10,189 - INFO - HTTP Request: POST https://api.openai.com/v1/embeddings \"HTTP/1.1 200 OK\"\n",
      "2025-05-06 15:02:11,396 - INFO - HTTP Request: POST https://api.openai.com/v1/chat/completions \"HTTP/1.1 200 OK\"\n"
     ]
    },
    {
     "name": "stdout",
     "output_type": "stream",
     "text": [
      "Task decomposition is the process of breaking down a problem into multiple thought steps, generating multiple thoughts per step in a tree structure. It can be achieved through LLM with simple prompting, task-specific instructions, or human inputs. This approach transforms complex tasks into smaller and simpler steps for easier interpretation and execution by models or agents.\n"
     ]
    }
   ],
   "source": [
    "response = graph.invoke({\"question\": \"What is Task Decomposition?\"})\n",
    "print(response[\"answer\"])"
   ]
  },
  {
   "cell_type": "markdown",
   "id": "78cb52c9-818b-4a02-80f1-13fc63a13d26",
   "metadata": {},
   "source": [
    "These are four answers generated and tutorial answer using `gpt-4o-mini`, `text-embedding-3-large`, and `InMemoryVectorStore`. The first three answers were generated with temperature = 0, while the fourth used the default setting (temperature > 0), which introduces some randomness in the output.\n",
    "\n",
    "- **Answer 1**: Task Decomposition is the process of breaking down a complex task into smaller, more manageable steps. This can be achieved through techniques like Chain of Thought (CoT) prompting, which encourages models to think step by step, or by using task-specific instructions. It allows for better planning and execution by clarifying the logical relationships between tasks.\n",
    "\n",
    "- **Answer 2**: Task Decomposition is the process of breaking down a complex task into smaller, more manageable steps. This can be achieved through techniques like Chain of Thought (CoT) prompting, which encourages models to think step by step, or by using task-specific instructions. It allows for better planning and execution by clarifying the logical relationships between tasks.\n",
    "\n",
    "- **Answer 3**: Task Decomposition is the process of breaking down a complex task into smaller, more manageable steps. This can be achieved through techniques like Chain of Thought (CoT) prompting, which encourages models to think step by step, or by using task-specific instructions. It allows for better planning and execution by clarifying the logical relationships between tasks.\n",
    "\n",
    "- **Answer 4**: Task Decomposition is the process of breaking down complex tasks into smaller, more manageable steps. It can be achieved through various methods, including prompting models to \"think step by step\" or using specific instructions tailored to tasks. This approach enhances performance by enabling more structured reasoning and easier execution of the overall task.\n",
    "\n",
    "- **Tutorial Answer**: Task Decomposition is the process of breaking down a complicated task into smaller, manageable steps to facilitate easier execution and understanding. Techniques like Chain of Thought (CoT) and Tree of Thoughts (ToT) guide models to think step-by-step, allowing them to explore multiple reasoning possibilities. This method enhances performance on complex tasks and provides insight into the model's thinking process."
   ]
  },
  {
   "cell_type": "markdown",
   "id": "e34b4b41-5595-4e23-abc4-b6c4aef2b05b",
   "metadata": {},
   "source": [
    "### Observation: Output Variability with Default LLM Settings\n",
    "\n",
    "**Setup & Finding:**\n",
    "*   Executed a RAG pipeline 3 times with identical components:\n",
    "    *   **Chat Model:** `gpt-4o-mini` (via `init_chat_model`)\n",
    "    *   **Embedding:** `text-embedding-3-large`\n",
    "    *   **Vector Store:** `InMemoryVectorStore` (same indexed data)\n",
    "*   **Result:** Each run produced a different answer to the same input question.\n",
    "\n",
    "**Analysis & Root Cause:**\n",
    "*   **Deterministic Components:** Embedding generation and vector search are inherently deterministic.\n",
    "*   **LLM Variability:** The source of variation is the chat model (`gpt-4o-mini`).\n",
    "    *   **Default `temperature`:** When `temperature` is unspecified during initialization (`init_chat_model`), it typically defaults to a value > 0.\n",
    "    *   **Effect:** `temperature > 0` introduces stochasticity (randomness) into the LLM's token selection process during text generation, resulting in varied outputs for identical inputs. ( **Observed behavior differs slightly from the tutorial results due to this randomness.**)\n",
    "\n",
    "**Verification & Solution:**\n",
    "*   **Experiment:** Re-executed the pipeline after explicitly initializing the chat model with `temperature=0`:\n",
    "    ```python\n",
    "    llm = init_chat_model(\"gpt-4o-mini\", model_provider=\"openai\", temperature=0)\n",
    "    ```\n",
    "*   **Outcome:** Setting `temperature=0` resulted in consistent, identical answers across subsequent runs for the same question.\n",
    "\n",
    "**Key Takeaway:**\n",
    "For reproducible LLM outputs, explicitly set `temperature=0`. Be aware that this removes the inherent creativity/diversity associated with higher temperature settings. The choice depends on the desired application behavior."
   ]
  },
  {
   "cell_type": "markdown",
   "id": "21be870e-0031-4d3e-8468-d1a26fc04e80",
   "metadata": {},
   "source": [
    "Now, due to resource constraints, I will use `gpt-3.5-turbo` as the chat model and `text-embedding-3-small` for embeddings, while keeping the same vector store."
   ]
  },
  {
   "cell_type": "markdown",
   "id": "43e08081-9dd5-428f-8cc8-cfc97bef5f37",
   "metadata": {},
   "source": [
    "## 3.Detailed break down\n",
    "### A.Indexing\n",
    "#### A.1 Loading documents"
   ]
  },
  {
   "cell_type": "code",
   "execution_count": 9,
   "id": "359b1f34-4bf3-4620-8d94-60887e0d1597",
   "metadata": {},
   "outputs": [
    {
     "name": "stdout",
     "output_type": "stream",
     "text": [
      "Total characters extracted from relevant sections: 43130\n"
     ]
    }
   ],
   "source": [
    "# Goal: Extract only the core content of the blog post, ignoring navigation, footers, etc.\n",
    "# We use BeautifulSoup's SoupStrainer to specify which HTML elements to keep.\n",
    "# Here, we target elements with CSS classes commonly used for blog titles, headers, and main content areas. This is \"what we want to read\" part\n",
    "bs4_strainer = bs4.SoupStrainer(class_=(\"post-title\", \"post-header\", \"post-content\"))\n",
    "\n",
    "# Initialize the WebBaseLoader with:\n",
    "# 1. web_paths: A tuple containing the URL(s) to load. Here, it's a specific blog post.\n",
    "# 2. bs_kwargs: A dictionary of keyword arguments to pass directly to the underlying BeautifulSoup parser.\n",
    "#    - \"parse_only\": This argument takes the SoupStrainer defined above. It tells BeautifulSoup\n",
    "#                    to parse *only* the parts of the HTML document that match the strainer criteria.\n",
    "#                    This significantly cleans the input data early in the process.\n",
    "loader = WebBaseLoader(\n",
    "    web_paths=(\"https://lilianweng.github.io/posts/2023-06-23-agent/\",), # Target URL\n",
    "    bs_kwargs={\"parse_only\": bs4_strainer}, # Apply the content strainer\n",
    ")\n",
    "\n",
    "# The .load() method executes the following steps:\n",
    "# 1. Fetches the HTML content from the specified URL.\n",
    "# 2. Uses BeautifulSoup (configured with the strainer) to parse the HTML.\n",
    "# 3. Extracts the text content from the strained HTML elements.\n",
    "# 4. Packages the extracted text and metadata (like the source URL) into a Langchain Document object.\n",
    "# Returns a list of Document objects (in this case, expected to be just one).\n",
    "docs = loader.load()\n",
    "\n",
    "\n",
    "# Basic sanity check: Assert that exactly one document was created from the single URL.\n",
    "assert len(docs) == 1, f\"Expected 1 document, but got {len(docs)}\"\n",
    "\n",
    "# Print the length (number of characters) of the extracted page content from the first document.\n",
    "# This provides a quick measure of the amount of relevant text successfully extracted.\n",
    "print(f\"Total characters extracted from relevant sections: {len(docs[0].page_content)}\")"
   ]
  },
  {
   "cell_type": "code",
   "execution_count": 10,
   "id": "b2fa3158-0ce7-4c32-916a-d39947ae9bc8",
   "metadata": {},
   "outputs": [
    {
     "name": "stdout",
     "output_type": "stream",
     "text": [
      "\n",
      "\n",
      "      LLM Powered Autonomous Agents\n",
      "    \n",
      "Date: June 23, 2023  |  Estimated Reading Time: 31 min  |  Author: Lilian Weng\n",
      "\n",
      "\n",
      "Building agents with LLM (large language model) as its core controller is a cool concept. Several proof-of-concepts demos, such as AutoGPT, GPT-Engineer and BabyAGI, serve as inspiring examples. The potentiality of LLM extends beyond generating well-written copies, stories, essays and programs; it can be framed as a powerful general problem solver.\n",
      "Agent System Overview#\n",
      "In a LLM-powered autonomous agent system, LLM functions as the agent’s brain, complemented by several key components:\n",
      "\n",
      "Planning\n",
      "\n",
      "Subgoal and decomposition: The agent breaks down large tasks into smaller, manageable subgoals, enabling efficient handling of complex tasks.\n",
      "Reflection and refinement: The agent can do self-criticism and self-reflection over past actions, learn from mistakes and refine them for future steps, thereby improving the quality of final results.\n",
      "\n",
      "\n",
      "\n"
     ]
    }
   ],
   "source": [
    "# Preview the first ~ 980 characters of the first document to inspect the loaded content\n",
    "print(docs[0].page_content[:971])"
   ]
  },
  {
   "cell_type": "markdown",
   "id": "9c77cce3-0f54-46b2-918e-c8d5c2755e37",
   "metadata": {},
   "source": [
    "#### A.2 Splitting documents"
   ]
  },
  {
   "cell_type": "code",
   "execution_count": 11,
   "id": "c8dcbf5c-d85a-40ab-b7e6-af077bf1e6cf",
   "metadata": {},
   "outputs": [
    {
     "name": "stdout",
     "output_type": "stream",
     "text": [
      "Split the loaded document(s) into 66 chunks/sub-documents.\n"
     ]
    }
   ],
   "source": [
    "# Import text splitting class from Langchain\n",
    "from langchain_text_splitters import RecursiveCharacterTextSplitter\n",
    "\n",
    "# --- Text Splitter ---\n",
    "# The goal here is to break down the loaded document(s) (from the previous step)\n",
    "# into smaller, manageable chunks.\n",
    "\n",
    "# Initialize the RecursiveCharacterTextSplitter with specific parameters:\n",
    "text_splitter = RecursiveCharacterTextSplitter(\n",
    "    chunk_size=1000,       # Defines the target size for each chunk in characters.\n",
    "                           # This value is chosen based on a balance between being small enough\n",
    "                           # for embedding models and large enough to retain meaningful context.\n",
    "                           # It's often tuned based on the embedding model and data characteristics.\n",
    "\n",
    "    chunk_overlap=200,     # Specifies the number of characters that will overlap between\n",
    "                           # consecutive chunks. Overlap helps to preserve context across chunk\n",
    "                           # boundaries, ensuring that sentences or ideas aren't abruptly cut off,\n",
    "                           # which could hinder the understanding of the text.\n",
    "\n",
    "    add_start_index=True,  # If True, this adds metadata to each chunk indicating its\n",
    "                           # starting character index in the original document.\n",
    ")\n",
    "\n",
    "\n",
    "# The `split_documents` method takes the list of Document objects (e.g., 'docs' from the\n",
    "# previous loading step) and applies the configured splitting logic.\n",
    "# `RecursiveCharacterTextSplitter` attempts to split text by a predefined list of\n",
    "# separators (e.g., \"\\n\\n\", \"\\n\", \" \", \"\") in that order, trying to keep semantically\n",
    "# related pieces of text together.\n",
    "all_splits = text_splitter.split_documents(docs)\n",
    "\n",
    "# Print the number of sub-documents (chunks) created after splitting.\n",
    "# This gives an indication of how the original document(s) have been divided.\n",
    "print(f\"Split the loaded document(s) into {len(all_splits)} chunks/sub-documents.\")"
   ]
  },
  {
   "cell_type": "markdown",
   "id": "26e122bb-7576-483a-91f2-3a63f3b09e4c",
   "metadata": {},
   "source": [
    "#### A.3 Storing documents"
   ]
  },
  {
   "cell_type": "code",
   "execution_count": 12,
   "id": "50165c73-3d37-4f81-85e0-6291a2bb7282",
   "metadata": {},
   "outputs": [
    {
     "name": "stderr",
     "output_type": "stream",
     "text": [
      "2025-05-06 15:02:15,241 - INFO - HTTP Request: POST https://api.openai.com/v1/embeddings \"HTTP/1.1 200 OK\"\n"
     ]
    },
    {
     "name": "stdout",
     "output_type": "stream",
     "text": [
      "['a73e3ef8-e129-4957-afc8-68f55d7ad48e', '2f6f60a3-1bdf-43af-b6cf-b5caf141c6bd', 'a8b473f2-9449-468d-b691-f5649bef5c78']\n"
     ]
    }
   ],
   "source": [
    "# The `add_documents` method of the vector store object handles this process.\n",
    "# - 'documents=all_splits': This passes the list of chunked Document objects.\n",
    "# - The method iterates through these documents, generates their embeddings (if not already\n",
    "#   embedded and the vector store is configured to do so), and stores them.\n",
    "# - It typically returns a list of IDs assigned by the vector store to each added document.\n",
    "#   These IDs can be useful for managing the documents later (e.g., updating or deleting).\n",
    "document_ids = vector_store.add_documents(documents=all_splits)\n",
    "\n",
    "\n",
    "# InMemoryVectorStore (in this notebook) generates new document IDs each time the program runs.\n",
    "# These IDs are not persistent across sessions, as the store only keeps data in memory.\n",
    "\n",
    "\n",
    "print(document_ids[:3])"
   ]
  },
  {
   "cell_type": "markdown",
   "id": "4db1d88d-c8c9-47e6-b897-55956c7c85eb",
   "metadata": {},
   "source": [
    "### B.Retrieval and Generation"
   ]
  },
  {
   "cell_type": "code",
   "execution_count": 13,
   "id": "4c182d57-36e9-4a4d-8c4f-789b3605a664",
   "metadata": {},
   "outputs": [
    {
     "name": "stdout",
     "output_type": "stream",
     "text": [
      "--- Example Prompt Content (after formatting with placeholders) ---\n",
      "You are an assistant for question-answering tasks. Use the following pieces of retrieved context to answer the question. If you don't know the answer, just say that you don't know. Use three sentences maximum and keep the answer concise.\n",
      "Question: (question goes here) \n",
      "Context: (context goes here) \n",
      "Answer:\n"
     ]
    }
   ],
   "source": [
    "# Import the 'hub' utility from Langchain.\n",
    "# Langchain Hub is a central repository for discovering, sharing, and using Langchain components,\n",
    "# particularly prompt templates, chains, and agents.\n",
    "from langchain import hub\n",
    "\n",
    "# --- Retrieve a Pre-defined Prompt Template ---\n",
    "# The `hub.pull()` function fetches a specific component from Langchain Hub.\n",
    "# - \"rlm/rag-prompt\": This is the identifier for the prompt being pulled.\n",
    "#   - \"rlm\" likely refers to the user or organization that published this prompt (e.g., \"Retrieval Language Model\" or a user named \"rlm\").\n",
    "#   - \"rag-prompt\" indicates that this is a prompt template specifically designed for\n",
    "#     Retrieval-Augmented Generation (RAG) tasks.\n",
    "#\n",
    "# Used pre-defined prompts from the hub\n",
    "prompt = hub.pull(\"rlm/rag-prompt\")\n",
    "\n",
    "# --- Inspect the Prompt Structure by Invoking it with Example Data ---\n",
    "# To understand how the prompt template is structured and what kind of output it produces\n",
    "# (before formatting for an LLM), we can invoke it with placeholder data.\n",
    "#\n",
    "# The `.invoke()` method of a Langchain prompt template typically takes a dictionary\n",
    "# where keys correspond to the input variables expected by the template.\n",
    "# For a RAG prompt, common input variables are:\n",
    "#   - \"context\": Placeholder for the retrieved documents/chunks.\n",
    "#   - \"question\": Placeholder for the user's query.\n",
    "#\n",
    "# The `.to_messages()` method converts the formatted prompt output (which might be a string\n",
    "# or a more complex structure) into a list of Langchain Message objects (e.g., HumanMessage,\n",
    "# AIMessage, SystemMessage).\n",
    "example_messages = prompt.invoke(\n",
    "    {\"context\": \"(context goes here)\", \"question\": \"(question goes here)\"}\n",
    ").to_messages()\n",
    "\n",
    "# --- Verification and Output ---\n",
    "# Assert that the invocation results in a single message object.\n",
    "assert len(example_messages) == 1, \\\n",
    "       f\"Expected prompt invocation to result in 1 message, but got {len(example_messages)}\"\n",
    "\n",
    "# Print the content of the first (and expected only) message.\n",
    "# This allows us to see the actual text that would be sent to the LLM after the\n",
    "# placeholders for \"context\" and \"question\" are filled. \n",
    "print(\"--- Example Prompt Content (after formatting with placeholders) ---\")\n",
    "print(example_messages[0].content)"
   ]
  },
  {
   "cell_type": "markdown",
   "id": "b92806c5-7819-4dc6-82ff-2277c301bcd9",
   "metadata": {},
   "source": [
    "In addition to pre-defined prompt, we can use other templates."
   ]
  },
  {
   "cell_type": "code",
   "execution_count": 26,
   "id": "e1d3ae68-bc68-4d77-9f48-070c59b71c59",
   "metadata": {},
   "outputs": [
    {
     "name": "stdout",
     "output_type": "stream",
     "text": [
      "\n",
      "You are an expert assistant. Answer the following question based only on the provided context.\n",
      "Do not use any outside knowledge. Be concise and accurate.\n",
      "\n",
      "Context:\n",
      "(context goes here)\n",
      "\n",
      "Question:\n",
      "(question goes here)\n",
      "\n",
      "Response:\n",
      "\n",
      "\n",
      "Use the following pieces of context to answer the question at the end.\n",
      "If you don't know the answer, just say that you don't know, don't try to make up an answer.\n",
      "Use three sentences maximum and keep the answer as concise as possible.\n",
      "Always say \"thanks for asking!\" at the end of the answer.\n",
      "\n",
      "(context goes here)\n",
      "\n",
      "Question: (question goes here)\n",
      "\n",
      "Helpful Answer:\n"
     ]
    }
   ],
   "source": [
    "from langchain_core.prompts import PromptTemplate\n",
    "\n",
    "# Define a custom prompt template for question answering based on provided context\n",
    "custom_prompt = PromptTemplate.from_template(\n",
    "    template=\"\"\"\n",
    "You are an expert assistant. Answer the following question based only on the provided context.\n",
    "Do not use any outside knowledge. Be concise and accurate.\n",
    "\n",
    "Context:\n",
    "{context}\n",
    "\n",
    "Question:\n",
    "{question}\n",
    "\n",
    "Response:\"\"\"\n",
    ")\n",
    "\n",
    "\n",
    "# Format the prompt using the provided inputs\n",
    "formatted_prompt = custom_prompt.invoke(\n",
    "    {\"context\": \"(context goes here)\", \"question\": \"(question goes here)\"}\n",
    ").to_messages()\n",
    "\n",
    "# Print the model's response\n",
    "print(formatted_prompt[0].content)\n",
    "\n",
    "#another templates\n",
    "\n",
    "print(\"\\n\")\n",
    "template = \"\"\"Use the following pieces of context to answer the question at the end.\n",
    "If you don't know the answer, just say that you don't know, don't try to make up an answer.\n",
    "Use three sentences maximum and keep the answer as concise as possible.\n",
    "Always say \"thanks for asking!\" at the end of the answer.\n",
    "\n",
    "{context}\n",
    "\n",
    "Question: {question}\n",
    "\n",
    "Helpful Answer:\"\"\"\n",
    "custom_rag_prompt = PromptTemplate.from_template(template)\n",
    "formatted_prompt = custom_rag_prompt.invoke(\n",
    "    {\"context\": \"(context goes here)\", \"question\": \"(question goes here)\"}\n",
    ").to_messages()\n",
    "\n",
    "# Print the model's response\n",
    "print(formatted_prompt[0].content)"
   ]
  },
  {
   "cell_type": "code",
   "execution_count": 14,
   "id": "83fd6ff4-854f-47ce-a405-b079ac5ded6a",
   "metadata": {},
   "outputs": [],
   "source": [
    "from langchain_core.documents import Document  # The standard Langchain class for representing pieces of text and their metadata.\n",
    "from typing_extensions import List, TypedDict   # `List` is for type hinting lists.\n",
    "                                              # `TypedDict` allows for defining dictionary-like structures with type hints for keys and values.\n",
    "\n",
    "# --- Define a Typed Dictionary for Representing RAG State ---\n",
    "# The `State` class is defined using `TypedDict`. This means instances of `State`\n",
    "# will be dictionaries, but with this definition, type checkers (like MyPy) and\n",
    "# IDEs can understand the expected keys and the types of their corresponding values.\n",
    "# This improves code readability, maintainability, and helps catch errors early.\n",
    "#\n",
    "# In the context of a RAG pipeline, especially one orchestrated by a graph-based\n",
    "# framework (e.g., Langchain's LangGraph), this `State` object would typically\n",
    "# carry information as it flows through different processing nodes (steps) of the graph.\n",
    "class State(TypedDict):\n",
    "    \"\"\"\n",
    "    A TypedDict representing the state of the RAG (Retrieval-Augmented Generation)\n",
    "    pipeline at various stages. This structure helps manage and pass data\n",
    "    between different components of the RAG process in a clear and type-safe manner.\n",
    "    \"\"\"\n",
    "    question: str\n",
    "    # The original question posed by the user. This is typically the starting point\n",
    "    # of the RAG pipeline and remains constant throughout the process.\n",
    "\n",
    "    context: List[Document]\n",
    "    # A list of Langchain `Document` objects. These are the chunks of text retrieved\n",
    "    # from the vector store that are deemed relevant to the `question`.\n",
    "    # This field is populated by the retrieval step. It might be initially empty or None\n",
    "    # and then updated as the pipeline progresses.\n",
    "\n",
    "    #     #eg : context :[\n",
    "    #     Document(\n",
    "    #         page_content=\"Task decomposition is the process of breaking a complex task into smaller, manageable subtasks...\",\n",
    "    #         metadata={\"source\": \"https://lilianweng.github.io/posts/2023-06-23-agent/\", \"start_index\": 0}\n",
    "    #     ),\n",
    "    #     Document(\n",
    "    #         page_content=\"One common method for task decomposition is Chain-of-Thought prompting, which guides the model to reason step by step...\",\n",
    "    #         metadata={\"source\": \"https://lilianweng.github.io/posts/2023-06-23-agent/\", \"start_index\": 1}\n",
    "    #     ),\n",
    "    #     ...\n",
    "    # ]\n",
    "\n",
    "\n",
    "    \n",
    "\n",
    "    answer: str\n",
    "    # The final answer generated by the Language Model (LLM) based on the\n",
    "    # `question` and the retrieved `context`. This field is populated by the\n",
    "    # generation step of the RAG pipeline. It might be initially empty or None."
   ]
  },
  {
   "cell_type": "code",
   "execution_count": 16,
   "id": "dbc44b00-4dcf-4373-8986-9076de323adb",
   "metadata": {},
   "outputs": [],
   "source": [
    "def retrieve(state: State):\n",
    "    \"\"\"\n",
    "    Performs the retrieval step of the RAG pipeline.\n",
    "\n",
    "    This function takes the current state (which includes the user's question)\n",
    "    and uses the vector store to find relevant documents.\n",
    "\n",
    "    Args:\n",
    "        state (State): The current state of the RAG pipeline, expected to contain\n",
    "                       at least the 'question' key with the user's query.\n",
    "\n",
    "    Returns:\n",
    "        dict: A dictionary with a 'context' key. The value is a list of\n",
    "              Langchain `Document` objects retrieved from the vector store\n",
    "              that are semantically similar to the input question.\n",
    "              This dictionary is intended to update the 'context' field in the\n",
    "              main RAG state.\n",
    "    \"\"\"\n",
    "    print(\"--- Executing Retrieval Step ---\")\n",
    "    question = state[\"question\"]\n",
    "    print(f\"Retrieving documents for question: '{question}'\")\n",
    "\n",
    "    # Perform a similarity search in the vector store using the question from the state.\n",
    "    # The `similarity_search` method returns a list of document chunks that are most relevant to the query.\n",
    "    #\n",
    "    # Although we previously stored the chunks in  'document_ids', \n",
    "    # we do not need to use those IDs here — the vector store automatically compares the embeddings of the query\n",
    "    # against all stored document vectors to find the most similar ones.\n",
    "    retrieved_docs = vector_store.similarity_search(question) \n",
    "    \n",
    "    print(f\"Retrieved {len(retrieved_docs)} documents.\")\n",
    "    if retrieved_docs:\n",
    "        print(f\"Content of the first retrieved doc (first 100 chars): '{retrieved_docs[0].page_content[:100]}...'\")\n",
    "\n",
    "    # Return a dictionary structured to update the 'context' field of the State.\n",
    "    return {\"context\": retrieved_docs}\n",
    "\n",
    "\n",
    "def generate(state: State):\n",
    "    \"\"\"\n",
    "    Performs the generation step of the RAG pipeline.\n",
    "\n",
    "    This function takes the current state (which includes the user's question\n",
    "    and the retrieved context) and uses a Language Model (LLM) to generate\n",
    "    an answer.\n",
    "\n",
    "    Args:\n",
    "        state (State): The current state of the RAG pipeline, expected to contain\n",
    "                       the 'question' and the 'context' (list of retrieved documents).\n",
    "\n",
    "    Returns:\n",
    "        dict: A dictionary with an 'answer' key. The value is the string content\n",
    "              of the LLM's generated response. This dictionary is intended to\n",
    "              update the 'answer' field in the main RAG state.\n",
    "    \"\"\"\n",
    "    print(\"--- Executing Generation Step ---\")\n",
    "    question = state[\"question\"]\n",
    "    context_documents = state[\"context\"]\n",
    "\n",
    "    if not context_documents:\n",
    "        print(\"Warning: No context provided for generation. LLM will answer based on its general knowledge.\")\n",
    "        # Optionally, handle this case differently, e.g., return a specific message\n",
    "        # or skip LLM call if context is strictly required.\n",
    "\n",
    "    # Combine the page content of all retrieved documents into a single string.\n",
    "    # This combined text will serve as the context for the LLM.\n",
    "    # Documents are typically joined by a double newline for readability by the LLM.\n",
    "    docs_content = \"\\n\\n\".join(doc.page_content for doc in context_documents)\n",
    "    \n",
    "    # Format the prompt with the user's question and the consolidated context.\n",
    "    # The 'prompt.invoke()' method typically prepares the input in the format\n",
    "    # expected by the LLM (e.g., a list of Message objects for chat models).\n",
    "    messages = prompt.invoke({\"question\": question, \"context\": docs_content})\n",
    "    # If `prompt` directly returns messages, this line is fine.\n",
    "    # If `prompt.invoke` returns a string and `llm` expects messages, conversion might be needed:\n",
    "    # e.g., from langchain_core.messages import HumanMessage\n",
    "    # messages = [HumanMessage(content=prompt.invoke(...))]\n",
    "\n",
    "\n",
    "    print(f\"Sending to LLM. Question: '{question}'\")\n",
    "    # Invoke the Language Model with the formatted messages (prompt + context + question).\n",
    "    response = llm.invoke(messages)\n",
    "    # The 'response' object from an LLM call often has a 'content' attribute\n",
    "    # holding the actual generated text.\n",
    "\n",
    "    # Return a dictionary structured to update the 'answer' field of the State.\n",
    "    return {\"answer\": response.content}"
   ]
  },
  {
   "cell_type": "markdown",
   "id": "0f6cc104-d535-4940-ba20-2f5796f354cb",
   "metadata": {},
   "source": [
    "We'll use LangGraph to tie together the retrieval and generation steps into a single application. \n",
    "The benefits of LangGraph include:\n",
    "\n",
    "- Support for multiple invocation modes: this logic would need to be rewritten if we wanted to stream output tokens, or stream the results of individual steps;\n",
    "- Automatic support for tracing via LangSmith and deployments via LangGraph Platform;\n",
    "- Support for persistence, human-in-the-loop, and other features."
   ]
  },
  {
   "cell_type": "code",
   "execution_count": 17,
   "id": "be51dd4d-1dd8-4f9f-b0cc-84fe3bac999b",
   "metadata": {},
   "outputs": [],
   "source": [
    "from langgraph.graph import START, StateGraph\n",
    "\n",
    "graph_builder = StateGraph(State).add_sequence([retrieve, generate])\n",
    "graph_builder.add_edge(START, \"retrieve\")\n",
    "graph = graph_builder.compile()"
   ]
  },
  {
   "cell_type": "code",
   "execution_count": 18,
   "id": "4c730363-c2a2-4d8f-b609-46e325fd3132",
   "metadata": {},
   "outputs": [
    {
     "data": {
      "image/png": "[encoded data removed]",
      "text/plain": [
       "<IPython.core.display.Image object>"
      ]
     },
     "metadata": {},
     "output_type": "display_data"
    }
   ],
   "source": [
    "from IPython.display import Image, display\n",
    "\n",
    "display(Image(graph.get_graph().draw_mermaid_png()))"
   ]
  },
  {
   "cell_type": "markdown",
   "id": "4e46e978-0355-4514-a24e-07e5dd1a086a",
   "metadata": {},
   "source": [
    "But LangGraph is not required to build a RAG application. So we can implement the same application logic through invocations of the individual components:"
   ]
  },
  {
   "cell_type": "code",
   "execution_count": 19,
   "id": "fe248e38-269b-41fc-b218-8ecc6625f40c",
   "metadata": {},
   "outputs": [
    {
     "name": "stdout",
     "output_type": "stream",
     "text": [
      "--- Executing Retrieval Step ---\n",
      "Retrieving documents for question: 'What is Task Decomposition?'\n"
     ]
    },
    {
     "name": "stderr",
     "output_type": "stream",
     "text": [
      "2025-05-06 15:02:23,285 - INFO - HTTP Request: POST https://api.openai.com/v1/embeddings \"HTTP/1.1 200 OK\"\n"
     ]
    },
    {
     "name": "stdout",
     "output_type": "stream",
     "text": [
      "Retrieved 4 documents.\n",
      "Content of the first retrieved doc (first 100 chars): 'Tree of Thoughts (Yao et al. 2023) extends CoT by exploring multiple reasoning possibilities at each...'\n",
      "--- Executing Generation Step ---\n",
      "Sending to LLM. Question: 'What is Task Decomposition?'\n"
     ]
    },
    {
     "name": "stderr",
     "output_type": "stream",
     "text": [
      "2025-05-06 15:02:24,563 - INFO - HTTP Request: POST https://api.openai.com/v1/chat/completions \"HTTP/1.1 200 OK\"\n"
     ]
    },
    {
     "name": "stdout",
     "output_type": "stream",
     "text": [
      "Context: [Document(id='079be118-ae11-42c7-ad91-b9a6c0586bb9', metadata={'source': 'https://lilianweng.github.io/posts/2023-06-23-agent/', 'start_index': 2192}, page_content='Tree of Thoughts (Yao et al. 2023) extends CoT by exploring multiple reasoning possibilities at each step. It first decomposes the problem into multiple thought steps and generates multiple thoughts per step, creating a tree structure. The search process can be BFS (breadth-first search) or DFS (depth-first search) with each state evaluated by a classifier (via a prompt) or majority vote.\\nTask decomposition can be done (1) by LLM with simple prompting like \"Steps for XYZ.\\\\n1.\", \"What are the subgoals for achieving XYZ?\", (2) by using task-specific instructions; e.g. \"Write a story outline.\" for writing a novel, or (3) with human inputs.'), Document(id='75250e00-d9e3-46bb-9a14-68ad6989d4c9', metadata={'source': 'https://lilianweng.github.io/posts/2023-06-23-agent/'}, page_content='Tree of Thoughts (Yao et al. 2023) extends CoT by exploring multiple reasoning possibilities at each step. It first decomposes the problem into multiple thought steps and generates multiple thoughts per step, creating a tree structure. The search process can be BFS (breadth-first search) or DFS (depth-first search) with each state evaluated by a classifier (via a prompt) or majority vote.\\nTask decomposition can be done (1) by LLM with simple prompting like \"Steps for XYZ.\\\\n1.\", \"What are the subgoals for achieving XYZ?\", (2) by using task-specific instructions; e.g. \"Write a story outline.\" for writing a novel, or (3) with human inputs.'), Document(id='514cf118-389f-4471-bba4-55a4be1cb249', metadata={'source': 'https://lilianweng.github.io/posts/2023-06-23-agent/'}, page_content='Fig. 1. Overview of a LLM-powered autonomous agent system.\\nComponent One: Planning#\\nA complicated task usually involves many steps. An agent needs to know what they are and plan ahead.\\nTask Decomposition#\\nChain of thought (CoT; Wei et al. 2022) has become a standard prompting technique for enhancing model performance on complex tasks. The model is instructed to “think step by step” to utilize more test-time computation to decompose hard tasks into smaller and simpler steps. CoT transforms big tasks into multiple manageable tasks and shed lights into an interpretation of the model’s thinking process.'), Document(id='a8b473f2-9449-468d-b691-f5649bef5c78', metadata={'source': 'https://lilianweng.github.io/posts/2023-06-23-agent/', 'start_index': 1585}, page_content='Fig. 1. Overview of a LLM-powered autonomous agent system.\\nComponent One: Planning#\\nA complicated task usually involves many steps. An agent needs to know what they are and plan ahead.\\nTask Decomposition#\\nChain of thought (CoT; Wei et al. 2022) has become a standard prompting technique for enhancing model performance on complex tasks. The model is instructed to “think step by step” to utilize more test-time computation to decompose hard tasks into smaller and simpler steps. CoT transforms big tasks into multiple manageable tasks and shed lights into an interpretation of the model’s thinking process.')]\n",
      "\n",
      "\n",
      "Answer: Task Decomposition involves breaking down a complex task into smaller and simpler steps, allowing for better planning and understanding. It can be achieved by prompting a language model with specific instructions or using human inputs to guide the process. Task Decomposition helps in transforming big tasks into more manageable ones, facilitating a clearer interpretation of the thinking process.\n"
     ]
    }
   ],
   "source": [
    "result = graph.invoke({\"question\": \"What is Task Decomposition?\"})\n",
    "\n",
    "print(f'Context: {result[\"context\"]}\\n\\n')\n",
    "print(f'Answer: {result[\"answer\"]}')"
   ]
  },
  {
   "cell_type": "code",
   "execution_count": 22,
   "id": "480b2523-a8c0-4797-a9c6-7f8abf6beea1",
   "metadata": {},
   "outputs": [],
   "source": [
    "# question = \"What is Task Decomposition?\"\n",
    "\n",
    "# retrieved_docs = vector_store.similarity_search(question)\n",
    "# docs_content = \"\\n\\n\".join(doc.page_content for doc in retrieved_docs)\n",
    "# prompt = prompt.invoke({\"question\": question, \"context\": docs_content})\n",
    "# answer = llm.invoke(prompt)\n",
    "#print(answer.content)"
   ]
  },
  {
   "cell_type": "code",
   "execution_count": 23,
   "id": "227079ba-f66b-4041-a9fd-4c3508d1c5a8",
   "metadata": {},
   "outputs": [
    {
     "name": "stdout",
     "output_type": "stream",
     "text": [
      "--- Executing Retrieval Step ---\n",
      "Retrieving documents for question: 'What is Task Decomposition?'\n"
     ]
    },
    {
     "name": "stderr",
     "output_type": "stream",
     "text": [
      "2025-05-06 15:02:43,869 - INFO - HTTP Request: POST https://api.openai.com/v1/embeddings \"HTTP/1.1 200 OK\"\n"
     ]
    },
    {
     "name": "stdout",
     "output_type": "stream",
     "text": [
      "Retrieved 4 documents.\n",
      "Content of the first retrieved doc (first 100 chars): 'Tree of Thoughts (Yao et al. 2023) extends CoT by exploring multiple reasoning possibilities at each...'\n",
      "{'retrieve': {'context': [Document(id='079be118-ae11-42c7-ad91-b9a6c0586bb9', metadata={'source': 'https://lilianweng.github.io/posts/2023-06-23-agent/', 'start_index': 2192}, page_content='Tree of Thoughts (Yao et al. 2023) extends CoT by exploring multiple reasoning possibilities at each step. It first decomposes the problem into multiple thought steps and generates multiple thoughts per step, creating a tree structure. The search process can be BFS (breadth-first search) or DFS (depth-first search) with each state evaluated by a classifier (via a prompt) or majority vote.\\nTask decomposition can be done (1) by LLM with simple prompting like \"Steps for XYZ.\\\\n1.\", \"What are the subgoals for achieving XYZ?\", (2) by using task-specific instructions; e.g. \"Write a story outline.\" for writing a novel, or (3) with human inputs.'), Document(id='75250e00-d9e3-46bb-9a14-68ad6989d4c9', metadata={'source': 'https://lilianweng.github.io/posts/2023-06-23-agent/'}, page_content='Tree of Thoughts (Yao et al. 2023) extends CoT by exploring multiple reasoning possibilities at each step. It first decomposes the problem into multiple thought steps and generates multiple thoughts per step, creating a tree structure. The search process can be BFS (breadth-first search) or DFS (depth-first search) with each state evaluated by a classifier (via a prompt) or majority vote.\\nTask decomposition can be done (1) by LLM with simple prompting like \"Steps for XYZ.\\\\n1.\", \"What are the subgoals for achieving XYZ?\", (2) by using task-specific instructions; e.g. \"Write a story outline.\" for writing a novel, or (3) with human inputs.'), Document(id='514cf118-389f-4471-bba4-55a4be1cb249', metadata={'source': 'https://lilianweng.github.io/posts/2023-06-23-agent/'}, page_content='Fig. 1. Overview of a LLM-powered autonomous agent system.\\nComponent One: Planning#\\nA complicated task usually involves many steps. An agent needs to know what they are and plan ahead.\\nTask Decomposition#\\nChain of thought (CoT; Wei et al. 2022) has become a standard prompting technique for enhancing model performance on complex tasks. The model is instructed to “think step by step” to utilize more test-time computation to decompose hard tasks into smaller and simpler steps. CoT transforms big tasks into multiple manageable tasks and shed lights into an interpretation of the model’s thinking process.'), Document(id='a8b473f2-9449-468d-b691-f5649bef5c78', metadata={'source': 'https://lilianweng.github.io/posts/2023-06-23-agent/', 'start_index': 1585}, page_content='Fig. 1. Overview of a LLM-powered autonomous agent system.\\nComponent One: Planning#\\nA complicated task usually involves many steps. An agent needs to know what they are and plan ahead.\\nTask Decomposition#\\nChain of thought (CoT; Wei et al. 2022) has become a standard prompting technique for enhancing model performance on complex tasks. The model is instructed to “think step by step” to utilize more test-time computation to decompose hard tasks into smaller and simpler steps. CoT transforms big tasks into multiple manageable tasks and shed lights into an interpretation of the model’s thinking process.')]}}\n",
      "\n",
      "----------------\n",
      "\n",
      "--- Executing Generation Step ---\n",
      "Sending to LLM. Question: 'What is Task Decomposition?'\n"
     ]
    },
    {
     "name": "stderr",
     "output_type": "stream",
     "text": [
      "2025-05-06 15:02:45,149 - INFO - HTTP Request: POST https://api.openai.com/v1/chat/completions \"HTTP/1.1 200 OK\"\n"
     ]
    },
    {
     "name": "stdout",
     "output_type": "stream",
     "text": [
      "{'generate': {'answer': 'Task Decomposition is a technique that breaks down complex tasks into smaller and simpler steps to make them more manageable. It can be done using prompting techniques, task-specific instructions, or human inputs to guide the decomposition process. Different search processes like BFS or DFS can be used to explore multiple reasoning possibilities at each step during task decomposition.'}}\n",
      "\n",
      "----------------\n",
      "\n"
     ]
    }
   ],
   "source": [
    "# Stream the steps of the StateGraph in real-time while processing the input question.\n",
    "# This allows us to track the progress of the application as it moves through the retrieve and generate steps.\n",
    "\n",
    "# Loop through the steps of the graph, streaming the updates\n",
    "for step in graph.stream(\n",
    "    {\"question\": \"What is Task Decomposition?\"},  # Input: The user's question that will be processed\n",
    "    stream_mode=\"updates\"  \n",
    "):\n",
    "\n",
    "    print(f\"{step}\\n\\n----------------\\n\")"
   ]
  },
  {
   "cell_type": "code",
   "execution_count": 24,
   "id": "a2c8f526-b163-4c79-b41f-de5397a57c8b",
   "metadata": {},
   "outputs": [
    {
     "name": "stdout",
     "output_type": "stream",
     "text": [
      "--- Executing Retrieval Step ---\n",
      "Retrieving documents for question: 'What is Task Decomposition?'\n"
     ]
    },
    {
     "name": "stderr",
     "output_type": "stream",
     "text": [
      "2025-05-06 15:02:45,574 - INFO - HTTP Request: POST https://api.openai.com/v1/embeddings \"HTTP/1.1 200 OK\"\n"
     ]
    },
    {
     "name": "stdout",
     "output_type": "stream",
     "text": [
      "Retrieved 4 documents.\n",
      "Content of the first retrieved doc (first 100 chars): 'Tree of Thoughts (Yao et al. 2023) extends CoT by exploring multiple reasoning possibilities at each...'\n",
      "--- Executing Generation Step ---\n",
      "Sending to LLM. Question: 'What is Task Decomposition?'\n"
     ]
    },
    {
     "name": "stderr",
     "output_type": "stream",
     "text": [
      "2025-05-06 15:02:46,165 - INFO - HTTP Request: POST https://api.openai.com/v1/chat/completions \"HTTP/1.1 200 OK\"\n"
     ]
    },
    {
     "name": "stdout",
     "output_type": "stream",
     "text": [
      "|Task| decomposition| is| the| process| of| breaking| down| a| problem| into| multiple| thought| steps|,| generating| multiple| thoughts| per| step|,| creating| a| tree| structure| for| exploring| reasoning| possibilities|.| It| can| be| achieved| through| L|LM| prompting|,| task|-specific| instructions|,| or| human| inputs|.| Task| decomposition| helps| transform| big| tasks| into| smaller|,| more| manageable| tasks| for| better| understanding| and| planning|.||"
     ]
    }
   ],
   "source": [
    "# Stream tokens:\n",
    "for message, metadata in graph.stream(\n",
    "    {\"question\": \"What is Task Decomposition?\"}, stream_mode=\"messages\"\n",
    "):\n",
    "    print(message.content, end=\"|\")"
   ]
  },
  {
   "cell_type": "markdown",
   "id": "ba81cb4b-72cb-46d8-a33f-8ff8f3ad8cc2",
   "metadata": {},
   "source": [
    "## 3.Query Analysis\n",
    "\n",
    "Query analysis is the process of understanding and interpreting a user's query to determine its intent and context. It involves detecting the user's goals, recognizing key entities, and considering context to provide more accurate and relevant responses. This step is crucial in improving the efficiency of search engines, chatbots, and other information retrieval systems."
   ]
  },
  {
   "cell_type": "code",
   "execution_count": 28,
   "id": "66063f0d-45fb-41e1-9132-bafa58387c1a",
   "metadata": {},
   "outputs": [
    {
     "name": "stdout",
     "output_type": "stream",
     "text": [
      "Metadata of the first chunk after adding 'section': {'source': 'https://lilianweng.github.io/posts/2023-06-23-agent/', 'start_index': 8, 'section': 'beginning'}\n"
     ]
    }
   ],
   "source": [
    "# total number of document chunks\n",
    "total_documents = len(all_splits)\n",
    "\n",
    "# --- Determine approximate boundary for thirds ---\n",
    "# Integer division to find the index marking the end of the first third.\n",
    "third = total_documents // 3\n",
    "\n",
    "# --- Assign a 'section' metadata field based on chunk position ---\n",
    "for i, document in enumerate(all_splits):\n",
    "    # Assign 'beginning', 'middle', or 'end' to the 'section' metadata\n",
    "    # based on whether the chunk falls into the first, second, or final third\n",
    "    # of the document chunk list.\n",
    "    if i < third:\n",
    "        document.metadata[\"section\"] = \"beginning\"\n",
    "    elif i < 2 * third: # Check if in the second third\n",
    "        document.metadata[\"section\"] = \"middle\"\n",
    "    else: # Remaining chunks are in the final third\n",
    "        document.metadata[\"section\"] = \"end\"\n",
    "\n",
    "# --- Display metadata of the first chunk (for verification) ---\n",
    "print(f\"Metadata of the first chunk after adding 'section': {all_splits[0].metadata}\")"
   ]
  },
  {
   "cell_type": "markdown",
   "id": "bf35734e-1b9d-4eee-808a-31e006c5e692",
   "metadata": {},
   "source": [
    "Update the documents in our vector store"
   ]
  },
  {
   "cell_type": "code",
   "execution_count": 29,
   "id": "bbd1f8c5-7cb6-458d-984c-977a8b9c7298",
   "metadata": {},
   "outputs": [
    {
     "name": "stderr",
     "output_type": "stream",
     "text": [
      "2025-05-06 15:16:10,909 - INFO - HTTP Request: POST https://api.openai.com/v1/embeddings \"HTTP/1.1 200 OK\"\n"
     ]
    }
   ],
   "source": [
    "vector_store = InMemoryVectorStore(embeddings)\n",
    "_ = vector_store.add_documents(all_splits)"
   ]
  },
  {
   "cell_type": "code",
   "execution_count": 30,
   "id": "2cb980cc-1283-4e44-ba10-5725bc381a10",
   "metadata": {},
   "outputs": [],
   "source": [
    "from typing import Literal\n",
    "\n",
    "from typing_extensions import Annotated\n",
    "\n",
    "\n",
    "class Search(TypedDict):\n",
    "    \"\"\"Search query.\"\"\"\n",
    "\n",
    "    query: Annotated[str, ..., \"Search query to run.\"]\n",
    "    section: Annotated[\n",
    "        Literal[\"beginning\", \"middle\", \"end\"],\n",
    "        ...,\n",
    "        \"Section to query.\",\n",
    "    ]"
   ]
  },
  {
   "cell_type": "markdown",
   "id": "d3428a01-5d4a-4c94-bf18-02b942907ef2",
   "metadata": {},
   "source": [
    "Finally, we add a step to our LangGraph application to generate a query from the user's raw input:"
   ]
  },
  {
   "cell_type": "code",
   "execution_count": 31,
   "id": "2a70052a-e914-4b90-8383-2f82d9992abf",
   "metadata": {},
   "outputs": [],
   "source": [
    "class State(TypedDict):\n",
    "    question: str\n",
    "    query: Search\n",
    "    context: List[Document]\n",
    "    answer: str\n",
    "\n",
    "\n",
    "def analyze_query(state: State): \n",
    "    \"\"\"\n",
    "    Analyzes the user's natural language question and converts it into a\n",
    "    structured representation using an LLM.\n",
    "\n",
    "    This step is often used in more advanced RAG pipelines to:\n",
    "    - Extract key entities or keywords for more targeted retrieval.\n",
    "    - Identify user intent or specific constraints from the query.\n",
    "    - Rephrase the query for better retrieval performance.\n",
    "\n",
    "    Args:\n",
    "        state (State): The current RAG state, expected to contain the\n",
    "                       user's original 'question'.\n",
    "\n",
    "    Returns:\n",
    "        dict: A dictionary containing the 'query' key, where the value is\n",
    "              the structured output (an instance of the 'Search' Pydantic model)\n",
    "              derived from the original question. This dictionary is intended to\n",
    "              potentially update a 'query' field or a similar field in the main RAG state.\n",
    "    \"\"\"\n",
    "    structured_llm = llm.with_structured_output(Search)\n",
    "    query = structured_llm.invoke(state[\"question\"])\n",
    "    return {\"query\": query}\n",
    "\n",
    "\n",
    "def retrieve(state: State):\n",
    "    query = state[\"query\"]\n",
    "    retrieved_docs = vector_store.similarity_search(\n",
    "        query[\"query\"],\n",
    "        filter=lambda doc: doc.metadata.get(\"section\") == query[\"section\"],\n",
    "    )\n",
    "    return {\"context\": retrieved_docs}\n",
    "\n",
    "\n",
    "def generate(state: State):\n",
    "    docs_content = \"\\n\\n\".join(doc.page_content for doc in state[\"context\"])\n",
    "    messages = prompt.invoke({\"question\": state[\"question\"], \"context\": docs_content})\n",
    "    response = llm.invoke(messages)\n",
    "    return {\"answer\": response.content}\n",
    "\n",
    "\n",
    "graph_builder = StateGraph(State).add_sequence([analyze_query, retrieve, generate])\n",
    "graph_builder.add_edge(START, \"analyze_query\")\n",
    "graph = graph_builder.compile()"
   ]
  },
  {
   "cell_type": "code",
   "execution_count": 32,
   "id": "6651d1be-a4b6-43b3-8c6a-3347ea792dbc",
   "metadata": {},
   "outputs": [
    {
     "data": {
      "image/png": "[encoded data removed]",
      "text/plain": [
       "<IPython.core.display.Image object>"
      ]
     },
     "metadata": {},
     "output_type": "display_data"
    }
   ],
   "source": [
    "display(Image(graph.get_graph().draw_mermaid_png())) #updated imaged after adding Query Analysis"
   ]
  },
  {
   "cell_type": "markdown",
   "id": "5f7d107e-4bda-430e-b280-205973b719b0",
   "metadata": {},
   "source": [
    "FINAL CODE :"
   ]
  },
  {
   "cell_type": "code",
   "execution_count": 33,
   "id": "00ffb1a4-0689-44d3-a599-2217a21574c1",
   "metadata": {},
   "outputs": [
    {
     "name": "stderr",
     "output_type": "stream",
     "text": [
      "2025-05-06 15:27:53,551 - INFO - HTTP Request: POST https://api.openai.com/v1/embeddings \"HTTP/1.1 200 OK\"\n"
     ]
    }
   ],
   "source": [
    "from typing import Literal\n",
    "\n",
    "import bs4\n",
    "from langchain import hub\n",
    "from langchain_community.document_loaders import WebBaseLoader\n",
    "from langchain_core.documents import Document\n",
    "from langchain_core.vectorstores import InMemoryVectorStore\n",
    "from langchain_text_splitters import RecursiveCharacterTextSplitter\n",
    "from langgraph.graph import START, StateGraph\n",
    "from typing_extensions import Annotated, List, TypedDict\n",
    "\n",
    "# Load and chunk contents of the blog\n",
    "loader = WebBaseLoader(\n",
    "    web_paths=(\"https://lilianweng.github.io/posts/2023-06-23-agent/\",),\n",
    "    bs_kwargs=dict(\n",
    "        parse_only=bs4.SoupStrainer(\n",
    "            class_=(\"post-content\", \"post-title\", \"post-header\")\n",
    "        )\n",
    "    ),\n",
    ")\n",
    "docs = loader.load()\n",
    "\n",
    "text_splitter = RecursiveCharacterTextSplitter(chunk_size=1000, chunk_overlap=200)\n",
    "all_splits = text_splitter.split_documents(docs)\n",
    "\n",
    "\n",
    "# Update metadata (illustration purposes)\n",
    "total_documents = len(all_splits)\n",
    "third = total_documents // 3\n",
    "\n",
    "for i, document in enumerate(all_splits):\n",
    "    if i < third:\n",
    "        document.metadata[\"section\"] = \"beginning\"\n",
    "    elif i < 2 * third:\n",
    "        document.metadata[\"section\"] = \"middle\"\n",
    "    else:\n",
    "        document.metadata[\"section\"] = \"end\"\n",
    "\n",
    "\n",
    "# Index chunks\n",
    "vector_store = InMemoryVectorStore(embeddings)\n",
    "_ = vector_store.add_documents(all_splits)\n",
    "\n",
    "\n",
    "# Define schema for search\n",
    "class Search(TypedDict):\n",
    "    \"\"\"Search query.\"\"\"\n",
    "\n",
    "    query: Annotated[str, ..., \"Search query to run.\"]\n",
    "    section: Annotated[\n",
    "        Literal[\"beginning\", \"middle\", \"end\"],\n",
    "        ...,\n",
    "        \"Section to query.\",\n",
    "    ]\n",
    "\n",
    "# Define prompt for question-answering\n",
    "prompt = hub.pull(\"rlm/rag-prompt\")\n",
    "\n",
    "\n",
    "# Define state for application\n",
    "class State(TypedDict):\n",
    "    question: str\n",
    "    query: Search\n",
    "    context: List[Document]\n",
    "    answer: str\n",
    "\n",
    "\n",
    "def analyze_query(state: State):\n",
    "    structured_llm = llm.with_structured_output(Search)\n",
    "    query = structured_llm.invoke(state[\"question\"])\n",
    "    return {\"query\": query}\n",
    "\n",
    "\n",
    "def retrieve(state: State):\n",
    "    query = state[\"query\"]\n",
    "    retrieved_docs = vector_store.similarity_search(\n",
    "        query[\"query\"],\n",
    "        filter=lambda doc: doc.metadata.get(\"section\") == query[\"section\"],\n",
    "    )\n",
    "    return {\"context\": retrieved_docs}\n",
    "\n",
    "\n",
    "def generate(state: State):\n",
    "    docs_content = \"\\n\\n\".join(doc.page_content for doc in state[\"context\"])\n",
    "    messages = prompt.invoke({\"question\": state[\"question\"], \"context\": docs_content})\n",
    "    response = llm.invoke(messages)\n",
    "    return {\"answer\": response.content}\n",
    "\n",
    "\n",
    "graph_builder = StateGraph(State).add_sequence([analyze_query, retrieve, generate])\n",
    "graph_builder.add_edge(START, \"analyze_query\")\n",
    "graph = graph_builder.compile()"
   ]
  }
 ],
 "metadata": {
  "kernelspec": {
   "display_name": "Python 3 (ipykernel)",
   "language": "python",
   "name": "python3"
  },
  "language_info": {
   "codemirror_mode": {
    "name": "ipython",
    "version": 3
   },
   "file_extension": ".py",
   "mimetype": "text/x-python",
   "name": "python",
   "nbconvert_exporter": "python",
   "pygments_lexer": "ipython3",
   "version": "3.11.4"
  }
 },
 "nbformat": 4,
 "nbformat_minor": 5
}
