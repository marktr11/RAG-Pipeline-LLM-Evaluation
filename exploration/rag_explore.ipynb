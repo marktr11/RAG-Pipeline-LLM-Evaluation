{
 "cells": [
  {
   "cell_type": "code",
   "execution_count": 1,
   "id": "6a1cc0b4-e8a3-4382-9985-d396cb57a0fd",
   "metadata": {},
   "outputs": [
    {
     "name": "stdout",
     "output_type": "stream",
     "text": [
      "Note: you may need to restart the kernel to use updated packages.\n"
     ]
    }
   ],
   "source": [
    "%pip install --quiet --upgrade langchain-text-splitters langchain-community langgraph\n",
    "#!pip install -U langchain langchain-openai\n",
    "#!pip install -qU langchain-openai \n",
    "#!pip install -qU \"langchain[openai]\""
   ]
  },
  {
   "cell_type": "markdown",
   "id": "0a66f188-2cf8-43b9-82f8-888bcdaa97d6",
   "metadata": {},
   "source": [
    "Set up environment variables"
   ]
  },
  {
   "cell_type": "code",
   "execution_count": 2,
   "id": "8aae99c8-8ac2-4af4-a73e-c22361b11938",
   "metadata": {},
   "outputs": [
    {
     "name": "stderr",
     "output_type": "stream",
     "text": [
      "2025-05-05 23:47:35,415 - INFO - Notebook logging configured.\n",
      "2025-05-05 23:47:35,415 - INFO - Added 'C:\\Users\\minhm\\OneDrive - Université Côte d'Azur\\Technical test SERVIER\\src' to sys.path\n",
      "2025-05-05 23:47:35,415 - INFO - Attempting to import 'config' from src...\n",
      "\n",
      "2025-05-05 23:47:35,428 - INFO - Current working directory: C:\\Users\\minhm\\OneDrive - Université Côte d'Azur\\Technical test SERVIER\\exploration\n",
      "2025-05-05 23:47:35,429 - INFO - LLM API Key loaded from environment.\n",
      "2025-05-05 23:47:35,429 - INFO - LangSmith API Key loaded.\n",
      "2025-05-05 23:47:35,429 - INFO - LangSmith project name set to: rag_pipeline_llm_evaluation\n",
      "2025-05-05 23:47:35,430 - INFO - PDF file path configured: C:\\Users\\minhm\\OneDrive - Université Côte d'Azur\\Technical test SERVIER\\data\\2411.15594v5.pdf\n",
      "2025-05-05 23:47:35,430 - INFO - Successfully imported 'config'.\n"
     ]
    }
   ],
   "source": [
    "# --- Configure logging FIRST ---\n",
    "# So you can see the log messages from config.py when it's imported\n",
    "import logging\n",
    "logging.basicConfig(level=logging.INFO, format='%(asctime)s - %(levelname)s - %(message)s')\n",
    "logging.info(\"Notebook logging configured.\") # Optional: Confirm logging setup\n",
    "\n",
    "# --- Add src directory to Python's path ---\n",
    "import sys\n",
    "import os\n",
    "\n",
    "# Get the absolute path of the directory containing the notebook\n",
    "notebook_dir = os.getcwd()\n",
    "# Go up one level to the project root\n",
    "project_root = os.path.dirname(notebook_dir)\n",
    "# Construct the path to the 'src' directory\n",
    "src_path = os.path.join(project_root, \"src\")\n",
    "\n",
    "# Check if the 'src' path is already in sys.path to avoid duplicates\n",
    "if src_path not in sys.path:\n",
    "    sys.path.append(src_path)\n",
    "    logging.info(f\"Added '{src_path}' to sys.path\")\n",
    "else:\n",
    "    logging.info(f\"'{src_path}' already in sys.path\")\n",
    "\n",
    "# --- Import config from src ---\n",
    "try:\n",
    "    logging.info(\"Attempting to import 'config' from src...\\n\")\n",
    "    import config # it will display logging from config\n",
    "    logging.info(\"Successfully imported 'config'.\")\n",
    "except ImportError as e:\n",
    "    logging.error(f\"Import error: {e}\")\n",
    "    logging.error(f\"Current sys.path: {sys.path}\")"
   ]
  },
  {
   "cell_type": "code",
   "execution_count": 3,
   "id": "7734d257-38cc-44e2-8790-b07692bbd387",
   "metadata": {},
   "outputs": [],
   "source": [
    "# dotenv_path = os.path.join(os.path.dirname(os.getcwd()), 'src\\.env')\n",
    "# print(dotenv_path)\n",
    "# load_dotenv(dotenv_path)"
   ]
  },
  {
   "cell_type": "code",
   "execution_count": null,
   "id": "d460dba2-15a8-42d1-a976-d875722f7ce2",
   "metadata": {},
   "outputs": [],
   "source": []
  }
 ],
 "metadata": {
  "kernelspec": {
   "display_name": "Python 3 (ipykernel)",
   "language": "python",
   "name": "python3"
  },
  "language_info": {
   "codemirror_mode": {
    "name": "ipython",
    "version": 3
   },
   "file_extension": ".py",
   "mimetype": "text/x-python",
   "name": "python",
   "nbconvert_exporter": "python",
   "pygments_lexer": "ipython3",
   "version": "3.11.4"
  }
 },
 "nbformat": 4,
 "nbformat_minor": 5
}
